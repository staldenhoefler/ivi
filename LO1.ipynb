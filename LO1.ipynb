{
 "cells": [
  {
   "cell_type": "markdown",
   "source": [
    "# Calculating time to render datasets\n",
    "## Using Matplotlib to plot large datasets"
   ],
   "metadata": {
    "collapsed": false
   },
   "id": "f0cafa6dc2d2211e"
  },
  {
   "cell_type": "code",
   "outputs": [],
   "source": [
    "import numpy as np\n",
    "import pandas as pd\n",
    "import plotly.express as px\n",
    "import time\n",
    "\n",
    "# Generate large dataset for simulation\n",
    "data_size = np.linspace(10000, 500000, 5, dtype=int)  # different data sizes for tiling test\n",
    "# make the data normal distribution\n",
    "datasets = [pd.DataFrame({'x': np.random.normal(size=size), 'y': np.random.normal(size=size)}) for size in data_size]\n",
    "\n",
    "# List to store rendering times\n",
    "elapsed_times = []\n",
    "\n",
    "# Interactively render the datasets with Plotly\n",
    "for idx, df in enumerate(datasets):\n",
    "    start_time = time.time()\n",
    "    \n",
    "    # Create interactive scatterplot\n",
    "    fig = px.scatter(df, x='x', y='y', title=f\"Interactive Scatterplot: {data_size[idx]} Points\",\n",
    "                     labels={'x': 'X-axis', 'y': 'Y-axis'})\n",
    "    \n",
    "    # Display the figure (comment this out if running in a non-interactive environment)\n",
    "    fig.show()\n",
    "    \n",
    "    # Measure elapsed time\n",
    "    elapsed_time = time.time() - start_time\n",
    "    elapsed_times.append(elapsed_time)\n",
    "    print(f\"Plotly Test {idx + 1}: Time to render {data_size[idx]} points: {elapsed_time:.4f} seconds\")\n",
    "\n",
    "# Plot the results using Plotly\n",
    "render_times_df = pd.DataFrame({'Data Size': data_size, 'Render Time (s)': elapsed_times})\n",
    "\n",
    "fig_time = px.line(render_times_df, x='Data Size', y='Render Time (s)', \n",
    "                   title='Render Times for Interactive Scatterplots',\n",
    "                   labels={'Data Size': 'Number of Points', 'Render Time (s)': 'Render Time (seconds)'})\n",
    "fig_time.show()\n",
    "\n"
   ],
   "metadata": {
    "collapsed": false
   },
   "id": "673280bc8e320587",
   "execution_count": null
  },
  {
   "cell_type": "code",
   "outputs": [],
   "source": [
    "fig_time = px.line(render_times_df, x='Data Size', y='Render Time (s)', \n",
    "                   title='Render Times for Interactive Scatterplots',\n",
    "                   labels={'Data Size': 'Number of Points', 'Render Time (s)': 'Render Time (seconds)'})\n",
    "fig_time.show()"
   ],
   "metadata": {
    "collapsed": false
   },
   "id": "dc81b5213f20fac4",
   "execution_count": null
  },
  {
   "cell_type": "markdown",
   "source": [
    "# Level of Detail (LOD) rendering"
   ],
   "metadata": {
    "collapsed": false
   },
   "id": "4a37dd45d251fe91"
  },
  {
   "cell_type": "code",
   "outputs": [],
   "source": [
    "import numpy as np\n",
    "import pandas as pd\n",
    "import matplotlib.pyplot as plt\n",
    "import time\n",
    "\n",
    "# Generate dataset for LOD experiment\n",
    "data_sizes = np.linspace(10000, 1000000, 10, dtype=int)\n",
    "datasets = [pd.DataFrame({'x': np.random.normal(size=size), 'y': np.random.normal(size=size)}) for size in data_sizes]\n",
    "\n",
    "# Function for LOD rendering\n",
    "def render_lod(data, zoom_level):\n",
    "    if zoom_level == 'low':\n",
    "        data = data.sample(frac=0.1)  # 10% of data\n",
    "    elif zoom_level == 'medium':\n",
    "        data = data.sample(frac=0.5)  # 50% of data\n",
    "    # \"high\" stays unchanged\n",
    "    plt.scatter(data['x'], data['y'], s=1, alpha=0.5)\n",
    "    plt.title(f\"LOD: Zoom-Level {zoom_level}\")\n",
    "    plt.xlabel(\"x\")\n",
    "    plt.ylabel(\"y\")\n",
    "    plt.show()\n",
    "\n",
    "# Measure rendering times for different LOD levels\n",
    "lod_levels = ['low', 'medium', 'high']\n",
    "render_times = {level: [] for level in lod_levels}\n",
    "\n",
    "for zoom_level in lod_levels:\n",
    "    for size, dataset in zip(data_sizes, datasets):\n",
    "        start_time = time.time()\n",
    "        render_lod(dataset, zoom_level)\n",
    "        render_time = time.time() - start_time\n",
    "        render_times[zoom_level].append(render_time)\n",
    "\n",
    "# Plot the rendering times\n",
    "for zoom_level in lod_levels:\n",
    "    plt.plot(data_sizes, render_times[zoom_level], label=f'LOD: {zoom_level.capitalize()}')\n",
    "\n",
    "plt.title(\"Rendering Times for Different LOD Levels\")\n",
    "plt.xlabel(\"Data Size\")\n",
    "plt.ylabel(\"Rendering Time (s)\")\n",
    "plt.legend()\n",
    "plt.grid(True)\n",
    "plt.show()"
   ],
   "metadata": {
    "collapsed": false
   },
   "id": "a3155c7c1b0993d6",
   "execution_count": null
  },
  {
   "cell_type": "markdown",
   "source": [
    "# Visualisierungs Typen"
   ],
   "metadata": {
    "collapsed": false
   },
   "id": "c5c62570c0aa0239"
  },
  {
   "cell_type": "code",
   "outputs": [],
   "source": [
    "# Rewriting the code to include heatmap functionality from scratch after reset\n",
    "\n",
    "import numpy as np\n",
    "import pandas as pd\n",
    "import matplotlib.pyplot as plt\n",
    "import time\n",
    "\n",
    "# Generate a dataset for the experiment\n",
    "data_sizes = np.linspace(10000, 500000, 5, dtype=int)  # Varying data sizes\n",
    "datasets = [pd.DataFrame({'x': np.random.normal(size=size), \n",
    "                          'y': np.random.normal(size=size)}) for size in data_sizes]\n",
    "\n",
    "# Visualization types to test, including heatmap\n",
    "visualization_types = ['scatter', 'line', 'bar', 'heatmap']\n",
    "\n",
    "# Function to render different visualization types, extended with Heatmap\n",
    "def render_visualization(data, vis_type):\n",
    "    if vis_type == 'scatter':\n",
    "        plt.scatter(data['x'], data['y'], s=1, alpha=0.5)\n",
    "    elif vis_type == 'line':\n",
    "        plt.plot(data['x'], data['y'], linewidth=0.5, alpha=0.5)\n",
    "    elif vis_type == 'bar':\n",
    "        bar_data = data[:min(len(data), 50)]  # Barplot is limited to smaller subsets\n",
    "        plt.bar(bar_data.index, bar_data['y'], alpha=0.5)\n",
    "    elif vis_type == 'heatmap':\n",
    "        heatmap_data = np.histogram2d(data['x'], data['y'], bins=50)[0]\n",
    "        plt.imshow(heatmap_data, cmap='viridis', origin='lower', aspect='auto')\n",
    "        plt.colorbar(label='Density')\n",
    "    plt.title(f\"{vis_type.capitalize()} Plot\")\n",
    "    plt.xlabel(\"x\")\n",
    "    plt.ylabel(\"y\")\n",
    "    plt.show()\n",
    "\n",
    "# Measure rendering times including Heatmap\n",
    "render_times = {vis_type: [] for vis_type in visualization_types}\n",
    "\n",
    "for vis_type in visualization_types:\n",
    "    for size, dataset in zip(data_sizes, datasets):\n",
    "        start_time = time.time()\n",
    "        render_visualization(dataset, vis_type)\n",
    "        render_time = time.time() - start_time\n",
    "        render_times[vis_type].append(render_time)\n",
    "\n",
    "# Plot the rendering times including Heatmap\n",
    "for vis_type in visualization_types:\n",
    "    plt.plot(data_sizes, render_times[vis_type], label=f'{vis_type.capitalize()}')\n",
    "\n",
    "plt.title(\"Rendering Times for Different Visualization Types\")\n",
    "plt.xlabel(\"Data Size\")\n",
    "plt.ylabel(\"Rendering Time (s)\")\n",
    "plt.legend()\n",
    "plt.grid(True)\n",
    "plt.show()\n"
   ],
   "metadata": {
    "collapsed": false
   },
   "id": "967818418295f4e3",
   "execution_count": null
  },
  {
   "cell_type": "markdown",
   "source": [
    "## Using Plotly to plot large datasets interactively"
   ],
   "metadata": {
    "collapsed": false
   },
   "id": "9d4a7c0e05486651"
  },
  {
   "cell_type": "code",
   "outputs": [],
   "source": [
    "import plotly.express as px\n",
    "\n",
    "elapsed_times_plotly = []\n",
    "\n",
    "# Plot using Plotly\n",
    "for df in datasets:\n",
    "    start_time = time.time()\n",
    "    fig = px.scatter(df, x='x', y='y', width=800, height=800)\n",
    "    fig.show()\n",
    "    elapsed_time = time.time() - start_time\n",
    "    elapsed_times_plotly.append(elapsed_time)\n",
    "    print(f\"Plotly Test: Time to render {len(df)} points: {elapsed_time:.4f} seconds\")\n",
    "\n"
   ],
   "metadata": {
    "collapsed": false
   },
   "id": "3ad2cddb93ce7eb5",
   "execution_count": null
  },
  {
   "cell_type": "code",
   "outputs": [],
   "source": [
    "# Plot line with datapoints\n",
    "plt.plot(elapsed_times_plotly, data_size, marker='o')\n",
    "plt.title(\"Time to Render Data vs. Data Size (Plotly)\")\n",
    "plt.xlabel(\"Time to Render Data (s)\")\n",
    "plt.ylabel(\"Data Size\")\n",
    "plt.show()"
   ],
   "metadata": {
    "collapsed": false
   },
   "id": "3320fe3403ef4f17",
   "execution_count": null
  },
  {
   "cell_type": "markdown",
   "source": [],
   "metadata": {
    "collapsed": false
   },
   "id": "330ab432182613f1"
  },
  {
   "cell_type": "markdown",
   "source": [
    "## Experimente von ChatGPT"
   ],
   "metadata": {
    "collapsed": false
   },
   "id": "ce1e736f359f9e3d"
  },
  {
   "cell_type": "code",
   "outputs": [],
   "source": [
    "import numpy as np\n",
    "import pandas as pd\n",
    "import matplotlib.pyplot as plt\n",
    "import time\n",
    "\n",
    "# Datensätze mit unterschiedlichen Größen generieren\n",
    "data_sizes = np.linspace(10000, 1000000, 10, dtype=int)\n",
    "datasets = [pd.DataFrame({'x': np.random.normal(size=size), 'y': np.random.normal(size=size)}) for size in data_sizes]\n",
    "\n",
    "render_times = []\n",
    "\n",
    "# Rendering-Zeiten mit Matplotlib messen\n",
    "for size, dataset in zip(data_sizes, datasets):\n",
    "    start_time = time.time()\n",
    "    plt.scatter(dataset['x'], dataset['y'], s=1, alpha=0.5)\n",
    "    plt.title(f\"Datensatzgröße: {size}\")\n",
    "    plt.xlabel(\"x\")\n",
    "    plt.ylabel(\"y\")\n",
    "    plt.show()\n",
    "    render_time = time.time() - start_time\n",
    "    render_times.append(render_time)\n",
    "    print(f\"Rendering-Zeit für {size} Punkte: {render_time:.4f} Sekunden\")\n"
   ],
   "metadata": {
    "collapsed": false
   },
   "id": "fd675e6f376cadf1",
   "execution_count": null
  },
  {
   "cell_type": "code",
   "outputs": [],
   "source": [
    "# Tile-Funktion: Nur sichtbare Tiles werden gerendert\n",
    "def render_tile(data, x_range, y_range):\n",
    "    filtered_data = data[(data['x'] >= x_range[0]) & (data['x'] <= x_range[1]) &\n",
    "                         (data['y'] >= y_range[0]) & (data['y'] <= y_range[1])]\n",
    "    plt.scatter(filtered_data['x'], filtered_data['y'], s=1, alpha=0.5)\n",
    "    plt.title(\"Tiling-Ansatz\")\n",
    "    plt.xlabel(\"x\")\n",
    "    plt.ylabel(\"y\")\n",
    "    plt.show()\n",
    "\n",
    "# Simulieren eines Zooms durch Tiling\n",
    "x_range = (-2, 2)  # Sichtbarer Bereich\n",
    "y_range = (-2, 2)\n",
    "for size, dataset in zip(data_sizes, datasets):\n",
    "    start_time = time.time()\n",
    "    render_tile(dataset, x_range, y_range)\n",
    "    render_time = time.time() - start_time\n",
    "    print(f\"Tiling: Rendering-Zeit für {size} Punkte: {render_time:.4f} Sekunden\")\n"
   ],
   "metadata": {
    "collapsed": false
   },
   "id": "663e82fade619cf6",
   "execution_count": null
  },
  {
   "cell_type": "code",
   "outputs": [],
   "source": [
    "# Funktion für LOD: Datenpunkte reduzieren, je nach Zoom-Level\n",
    "def render_lod(data, zoom_level):\n",
    "    if zoom_level == 'low':\n",
    "        data = data.sample(frac=0.1)  # 10% der Daten\n",
    "    elif zoom_level == 'medium':\n",
    "        data = data.sample(frac=0.5)  # 50% der Daten\n",
    "    # \"high\" bleibt unverändert\n",
    "    plt.scatter(data['x'], data['y'], s=1, alpha=0.5)\n",
    "    plt.title(f\"LOD: Zoom-Level {zoom_level}\")\n",
    "    plt.xlabel(\"x\")\n",
    "    plt.ylabel(\"y\")\n",
    "    plt.show()\n",
    "\n",
    "# LOD mit verschiedenen Zoom-Leveln testen\n",
    "for zoom_level in ['low', 'medium', 'high']:\n",
    "    for size, dataset in zip(data_sizes, datasets):\n",
    "        start_time = time.time()\n",
    "        render_lod(dataset, zoom_level)\n",
    "        render_time = time.time() - start_time\n",
    "        print(f\"LOD ({zoom_level}): Rendering-Zeit für {size} Punkte: {render_time:.4f} Sekunden\")\n"
   ],
   "metadata": {
    "collapsed": false
   },
   "id": "9ef5df304ababee2",
   "execution_count": null
  },
  {
   "cell_type": "code",
   "outputs": [],
   "source": [
    "import plotly.express as px\n",
    "\n",
    "render_times_plotly = []\n",
    "\n",
    "for size, dataset in zip(data_sizes, datasets):\n",
    "    start_time = time.time()\n",
    "    fig = px.scatter(dataset, x='x', y='y', title=f\"Datensatzgröße: {size}\", width=800, height=800)\n",
    "    fig.show()\n",
    "    render_time = time.time() - start_time\n",
    "    render_times_plotly.append(render_time)\n",
    "    print(f\"Plotly: Rendering-Zeit für {size} Punkte: {render_time:.4f} Sekunden\")\n"
   ],
   "metadata": {
    "collapsed": false
   },
   "id": "e22a6adb43713d2e",
   "execution_count": null
  },
  {
   "cell_type": "code",
   "outputs": [],
   "source": [],
   "metadata": {
    "collapsed": false
   },
   "id": "4f20bb247dbc8c71"
  }
 ],
 "metadata": {
  "kernelspec": {
   "display_name": "Python 3",
   "language": "python",
   "name": "python3"
  },
  "language_info": {
   "codemirror_mode": {
    "name": "ipython",
    "version": 3
   },
   "file_extension": ".py",
   "mimetype": "text/x-python",
   "name": "python",
   "nbconvert_exporter": "python",
   "pygments_lexer": "ipython3",
   "version": "3.11.5"
  }
 },
 "nbformat": 4,
 "nbformat_minor": 5
}
